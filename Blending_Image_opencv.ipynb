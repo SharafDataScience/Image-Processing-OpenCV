{
 "cells": [
  {
   "cell_type": "code",
   "execution_count": null,
   "id": "3db99ded-1117-4c43-a501-c69e87515610",
   "metadata": {},
   "outputs": [
    {
     "name": "stdout",
     "output_type": "stream",
     "text": [
      "Apple shape: (512, 512, 3)\n",
      "Orange shape: (512, 512, 3)\n"
     ]
    }
   ],
   "source": [
    "import cv2\n",
    "import numpy as np\n",
    "\n",
    "# Load images\n",
    "apple = cv2.imread('apple.jpg')\n",
    "orange = cv2.imread('orange.jpg')\n",
    "\n",
    "print(\"Apple shape:\", apple.shape)\n",
    "print(\"Orange shape:\", orange.shape)\n",
    "\n",
    "# Combine halves of apple and orange directly for comparison\n",
    "apple_orange = np.hstack((apple[:, :256], orange[:, 256:]))\n",
    "\n",
    "# Generate Gaussian pyramids\n",
    "def generate_gaussian_pyramid(image, levels=2):\n",
    "    gp = [image.copy()]\n",
    "    for _ in range(levels):\n",
    "        image = cv2.pyrDown(image)\n",
    "        gp.append(image)\n",
    "    return gp\n",
    "\n",
    "gp_apple = generate_gaussian_pyramid(apple)\n",
    "gp_orange = generate_gaussian_pyramid(orange)\n",
    "\n",
    "# Generate Laplacian pyramids\n",
    "def generate_laplacian_pyramid(gaussian_pyramid):\n",
    "    lp = [gaussian_pyramid[-1]]\n",
    "    for i in range(len(gaussian_pyramid) - 1, 0, -1):\n",
    "        gaussian_expanded = cv2.pyrUp(gaussian_pyramid[i])\n",
    "        size = (gaussian_pyramid[i-1].shape[1], gaussian_pyramid[i-1].shape[0])\n",
    "        gaussian_expanded = cv2.resize(gaussian_expanded, size)\n",
    "        laplacian = cv2.subtract(gaussian_pyramid[i-1], gaussian_expanded)\n",
    "        lp.append(laplacian)\n",
    "    return lp\n",
    "\n",
    "lp_apple = generate_laplacian_pyramid(gp_apple)\n",
    "lp_orange = generate_laplacian_pyramid(gp_orange)\n",
    "\n",
    "# Blend images at each pyramid level\n",
    "apple_orange_pyramid = []\n",
    "for apple_lap, orange_lap in zip(lp_apple, lp_orange):\n",
    "    cols, rows, _ = apple_lap.shape\n",
    "    laplacian = np.hstack((apple_lap[:, :cols // 2], orange_lap[:, cols // 2:]))\n",
    "    apple_orange_pyramid.append(laplacian)\n",
    "\n",
    "# Reconstruct the blended image\n",
    "apple_orange_reconstruct = apple_orange_pyramid[0]\n",
    "for i in range(1, len(apple_orange_pyramid)):\n",
    "    apple_orange_reconstruct = cv2.pyrUp(apple_orange_reconstruct)\n",
    "    size = (apple_orange_pyramid[i].shape[1], apple_orange_pyramid[i].shape[0])\n",
    "    apple_orange_reconstruct = cv2.resize(apple_orange_reconstruct, size)\n",
    "    apple_orange_reconstruct = cv2.add(apple_orange_pyramid[i], apple_orange_reconstruct)\n",
    "\n",
    "# Display results\n",
    "cv2.imshow(\"Apple\", apple)\n",
    "cv2.imshow(\"Orange\", orange)\n",
    "cv2.imshow(\"Direct Blend (Half Apple + Half Orange)\", apple_orange)\n",
    "cv2.imshow(\"Blended Pyramid Image\", apple_orange_reconstruct)\n",
    "\n",
    "cv2.waitKey(0)\n",
    "cv2.destroyAllWindows()\n"
   ]
  },
  {
   "cell_type": "code",
   "execution_count": null,
   "id": "7a83edbd-8d49-4fb4-895b-a1513aed25ba",
   "metadata": {},
   "outputs": [],
   "source": []
  },
  {
   "cell_type": "code",
   "execution_count": null,
   "id": "967121f5-c864-459a-bb55-4d3ba117d19a",
   "metadata": {},
   "outputs": [],
   "source": []
  }
 ],
 "metadata": {
  "kernelspec": {
   "display_name": "Python 3 (ipykernel)",
   "language": "python",
   "name": "python3"
  },
  "language_info": {
   "codemirror_mode": {
    "name": "ipython",
    "version": 3
   },
   "file_extension": ".py",
   "mimetype": "text/x-python",
   "name": "python",
   "nbconvert_exporter": "python",
   "pygments_lexer": "ipython3",
   "version": "3.12.4"
  }
 },
 "nbformat": 4,
 "nbformat_minor": 5
}
