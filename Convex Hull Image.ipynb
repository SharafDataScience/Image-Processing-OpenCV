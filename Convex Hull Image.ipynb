{
 "cells": [
  {
   "cell_type": "code",
   "execution_count": 1,
   "id": "7a83edbd-8d49-4fb4-895b-a1513aed25ba",
   "metadata": {},
   "outputs": [],
   "source": [
    "import cv2\n",
    "import matplotlib.pyplot as plt\n",
    "import os\n",
    "\n",
    "# Change the working directory (optional, adjust the path as needed)\n",
    "#os.chdir(r\"D:\\DATA\")\n",
    "\n",
    "# Load the image\n",
    "image = cv2.imread('internal_external.png')\n",
    "\n",
    "# Resize the image (optional, adjust dimensions as needed)\n",
    "image = cv2.resize(image, (650, 500))\n",
    "\n",
    "# Convert the image to grayscale\n",
    "gray_image = cv2.cvtColor(image, cv2.COLOR_BGR2GRAY)\n",
    "\n",
    "# Threshold the image\n",
    "ret, thresh = cv2.threshold(gray_image, 50, 255, cv2.THRESH_BINARY)\n",
    "\n",
    "# Find contours in the thresholded image\n",
    "contours, hierarchy = cv2.findContours(thresh, cv2.RETR_TREE, cv2.CHAIN_APPROX_SIMPLE)\n",
    "\n",
    "# Create a copy of the original image to draw the convex hulls\n",
    "result_image = image.copy()\n",
    "\n",
    "# For each contour, find the convex hull and draw it on the original image\n",
    "for i in range(len(contours)):\n",
    "    # Compute the convex hull for the current contour\n",
    "    hull = cv2.convexHull(contours[i])\n",
    "    \n",
    "    # Draw the convex hull on the result image\n",
    "    cv2.drawContours(result_image, [hull], -1, (0, 255, 0), 2)  # Green color, thickness 2\n",
    "\n",
    "# Display the final image with convex hulls\n",
    "cv2.imshow('Convex Hull Image', result_image)\n",
    "cv2.waitKey(0)\n",
    "cv2.destroyAllWindows()"
   ]
  },
  {
   "cell_type": "code",
   "execution_count": null,
   "id": "967121f5-c864-459a-bb55-4d3ba117d19a",
   "metadata": {
    "collapsed": true,
    "jupyter": {
     "outputs_hidden": true
    }
   },
   "outputs": [],
   "source": []
  },
  {
   "cell_type": "code",
   "execution_count": null,
   "id": "e756631a-eec9-47a0-86ec-a93d6bc3e18d",
   "metadata": {
    "collapsed": true,
    "jupyter": {
     "outputs_hidden": true
    }
   },
   "outputs": [],
   "source": []
  }
 ],
 "metadata": {
  "kernelspec": {
   "display_name": "Python 3 (ipykernel)",
   "language": "python",
   "name": "python3"
  },
  "language_info": {
   "codemirror_mode": {
    "name": "ipython",
    "version": 3
   },
   "file_extension": ".py",
   "mimetype": "text/x-python",
   "name": "python",
   "nbconvert_exporter": "python",
   "pygments_lexer": "ipython3",
   "version": "3.12.4"
  }
 },
 "nbformat": 4,
 "nbformat_minor": 5
}
